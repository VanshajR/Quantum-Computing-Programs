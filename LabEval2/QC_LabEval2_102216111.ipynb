{
  "cells": [
    {
      "cell_type": "markdown",
      "metadata": {},
      "source": [
        "# 102216111 Lab Eval 2"
      ]
    },
    {
      "cell_type": "markdown",
      "metadata": {},
      "source": [
        "### Q1. Complete the create_entangled_pair() to make the state 1/√2(|010⟩ + |101⟩)\n",
        "\n",
        "### Diagram:\n",
        "\n",
        "![QC_BellPair](https://res.cloudinary.com/dnciaoigz/image/upload/v1747638490/WhatsApp_Image_2025-05-19_at_12.35.40_384478cf_ssajsz.jpg)"
      ]
    },
    {
      "cell_type": "code",
      "execution_count": 1,
      "metadata": {},
      "outputs": [
        {
          "data": {
            "text/html": [
              "<pre style=\"word-wrap: normal;white-space: pre;background: #fff0;line-height: 1.1;font-family: &quot;Courier New&quot;,Courier,monospace\">     ┌───┐          \n",
              "q_0: ┤ H ├──■────■──\n",
              "     ├───┤┌─┴─┐  │  \n",
              "q_1: ┤ X ├┤ X ├──┼──\n",
              "     └───┘└───┘┌─┴─┐\n",
              "q_2: ──────────┤ X ├\n",
              "               └───┘\n",
              "c: 3/═══════════════\n",
              "                    </pre>"
            ],
            "text/plain": [
              "     ┌───┐          \n",
              "q_0: ┤ H ├──■────■──\n",
              "     ├───┤┌─┴─┐  │  \n",
              "q_1: ┤ X ├┤ X ├──┼──\n",
              "     └───┘└───┘┌─┴─┐\n",
              "q_2: ──────────┤ X ├\n",
              "               └───┘\n",
              "c: 3/═══════════════\n",
              "                    "
            ]
          },
          "execution_count": 1,
          "metadata": {},
          "output_type": "execute_result"
        }
      ],
      "source": [
        "from qiskit.quantum_info import Statevector,partial_trace\n",
        "from qiskit import QuantumCircuit\n",
        "from qiskit_aer import Aer\n",
        "from qiskit.visualization import plot_histogram\n",
        "def create_entangled_pair():\n",
        "  qc = QuantumCircuit(3, 3)\n",
        "  qc.h(0)\n",
        "  qc.x(1)\n",
        "  qc.cx(0, 1)\n",
        "  qc.cx(0, 2)\n",
        "  return qc\n",
        "qc = create_entangled_pair()\n",
        "qc.draw()\n"
      ]
    },
    {
      "cell_type": "code",
      "execution_count": 2,
      "metadata": {},
      "outputs": [
        {
          "data": {
            "text/latex": [
              "$$\\frac{\\sqrt{2}}{2} |010\\rangle+\\frac{\\sqrt{2}}{2} |101\\rangle$$"
            ],
            "text/plain": [
              "<IPython.core.display.Latex object>"
            ]
          },
          "execution_count": 2,
          "metadata": {},
          "output_type": "execute_result"
        }
      ],
      "source": [
        "state = Statevector(qc)\n",
        "state.draw('latex') # MSB is 1st"
      ]
    },
    {
      "cell_type": "markdown",
      "metadata": {},
      "source": [
        "### Q2. Suppose we are given a function f from {0,1}<sup>2</sup> to {0,1} with following values, *f(00) = f(01) = f(10) = f(11) = 0*. \n",
        "\n",
        "### Write qiskit code to make/draw the deutsch-jozsa circuit and show the final output for the same"
      ]
    },
    {
      "cell_type": "code",
      "execution_count": 3,
      "metadata": {
        "id": "dC1u0Fl09Z_u"
      },
      "outputs": [],
      "source": [
        "def constant_oracle(n):\n",
        "\n",
        "    oracle = QuantumCircuit(n + 1)\n",
        "    # oracle.x(n)  # for f(x)=1\n",
        "    return oracle\n",
        "\n",
        "def balanced_oracle(n):\n",
        "\n",
        "\n",
        "    oracle = QuantumCircuit(n + 1)\n",
        "    for i in range(n):\n",
        "        oracle.cx(i, n)\n",
        "    return oracle"
      ]
    },
    {
      "cell_type": "code",
      "execution_count": 4,
      "metadata": {
        "id": "7VQDEmcx9b7y"
      },
      "outputs": [],
      "source": [
        "from qiskit import QuantumCircuit\n",
        "from qiskit_aer import Aer\n",
        "from qiskit.visualization import plot_histogram\n",
        "import matplotlib.pyplot as plt\n",
        "def deutsch_jozsa(f_oracle, n):\n",
        "    qc = QuantumCircuit(n + 1, n)\n",
        "    # Step 1:  input y\n",
        "    qc.x(n)\n",
        "    qc.h(n)\n",
        "\n",
        "    # Step 2:input x\n",
        "    for i in range(n):\n",
        "        qc.h(i)\n",
        "\n",
        "    qc.barrier()\n",
        "\n",
        "    # Step 3: Uf\n",
        "    qc = qc.compose(f_oracle, qubits=range(n + 1))\n",
        "\n",
        "    qc.barrier()\n",
        "\n",
        "    # Step 4: Output\n",
        "    for i in range(n):\n",
        "        qc.h(i)\n",
        "\n",
        "    # Step 5: Measure input qubits\n",
        "    for i in range(n):\n",
        "        qc.measure(i, i)\n",
        "\n",
        "    return qc"
      ]
    },
    {
      "cell_type": "code",
      "execution_count": 5,
      "metadata": {
        "id": "iLwhEDvZ9eLO"
      },
      "outputs": [],
      "source": [
        "# Number of input bits\n",
        "n = 2\n",
        "# Uf\n",
        "oracle = constant_oracle(n)"
      ]
    },
    {
      "cell_type": "code",
      "execution_count": 6,
      "metadata": {
        "colab": {
          "base_uri": "https://localhost:8080/",
          "height": 156
        },
        "id": "lljZGEwm9fzv",
        "outputId": "49dab74a-f6d5-4034-830e-ed9819e9692e"
      },
      "outputs": [
        {
          "data": {
            "text/html": [
              "<pre style=\"word-wrap: normal;white-space: pre;background: #fff0;line-height: 1.1;font-family: &quot;Courier New&quot;,Courier,monospace\">     ┌───┐      ░  ░ ┌───┐┌─┐   \n",
              "q_0: ┤ H ├──────░──░─┤ H ├┤M├───\n",
              "     ├───┤      ░  ░ ├───┤└╥┘┌─┐\n",
              "q_1: ┤ H ├──────░──░─┤ H ├─╫─┤M├\n",
              "     ├───┤┌───┐ ░  ░ └───┘ ║ └╥┘\n",
              "q_2: ┤ X ├┤ H ├─░──░───────╫──╫─\n",
              "     └───┘└───┘ ░  ░       ║  ║ \n",
              "c: 2/══════════════════════╩══╩═\n",
              "                           0  1 </pre>"
            ],
            "text/plain": [
              "     ┌───┐      ░  ░ ┌───┐┌─┐   \n",
              "q_0: ┤ H ├──────░──░─┤ H ├┤M├───\n",
              "     ├───┤      ░  ░ ├───┤└╥┘┌─┐\n",
              "q_1: ┤ H ├──────░──░─┤ H ├─╫─┤M├\n",
              "     ├───┤┌───┐ ░  ░ └───┘ ║ └╥┘\n",
              "q_2: ┤ X ├┤ H ├─░──░───────╫──╫─\n",
              "     └───┘└───┘ ░  ░       ║  ║ \n",
              "c: 2/══════════════════════╩══╩═\n",
              "                           0  1 "
            ]
          },
          "execution_count": 6,
          "metadata": {},
          "output_type": "execute_result"
        }
      ],
      "source": [
        "dj_circuit = deutsch_jozsa(oracle, n)\n",
        "dj_circuit.draw()"
      ]
    },
    {
      "cell_type": "code",
      "execution_count": 7,
      "metadata": {
        "colab": {
          "base_uri": "https://localhost:8080/"
        },
        "id": "GW4n03nR9hN1",
        "outputId": "5d1a4d91-b636-4a40-dca7-97acd7a8b7fd"
      },
      "outputs": [
        {
          "data": {
            "text/plain": [
              "{'00': 1024}"
            ]
          },
          "execution_count": 7,
          "metadata": {},
          "output_type": "execute_result"
        }
      ],
      "source": [
        "sim = Aer.get_backend('aer_simulator')\n",
        "result = sim.run(dj_circuit).result()\n",
        "f = result.get_counts()\n",
        "f"
      ]
    },
    {
      "cell_type": "code",
      "execution_count": null,
      "metadata": {
        "id": "6xDKYAFJ9j_4"
      },
      "outputs": [],
      "source": []
    }
  ],
  "metadata": {
    "colab": {
      "provenance": []
    },
    "kernelspec": {
      "display_name": "Python 3",
      "name": "python3"
    },
    "language_info": {
      "codemirror_mode": {
        "name": "ipython",
        "version": 3
      },
      "file_extension": ".py",
      "mimetype": "text/x-python",
      "name": "python",
      "nbconvert_exporter": "python",
      "pygments_lexer": "ipython3",
      "version": "3.10.0"
    }
  },
  "nbformat": 4,
  "nbformat_minor": 0
}
