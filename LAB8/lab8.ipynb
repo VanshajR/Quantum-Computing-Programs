{
 "cells": [
  {
   "cell_type": "markdown",
   "id": "4c5d17f1",
   "metadata": {},
   "source": [
    "## ASSIGNMENT 8"
   ]
  },
  {
   "cell_type": "markdown",
   "id": "aa4d121f",
   "metadata": {},
   "source": [
    "### Section 1\n",
    "\n",
    "Write Qiskit code to Implement QKD Algorithm..\n",
    "Refer: https://github.com/Qiskit/textbook/blob/main/notebooks/ch-algorithms/quantum-keydistribution.ipynb"
   ]
  },
  {
   "cell_type": "code",
   "execution_count": 1,
   "id": "7a7e4327",
   "metadata": {},
   "outputs": [],
   "source": [
    "from qiskit import QuantumCircuit, transpile\n",
    "from qiskit_aer import Aer\n",
    "from qiskit.visualization import plot_histogram, plot_bloch_multivector\n",
    "from numpy.random import randint\n",
    "import numpy as np"
   ]
  },
  {
   "cell_type": "code",
   "execution_count": 2,
   "id": "6b92fcb5",
   "metadata": {},
   "outputs": [
    {
     "data": {
      "text/html": [
       "<pre style=\"word-wrap: normal;white-space: pre;background: #fff0;line-height: 1.1;font-family: &quot;Courier New&quot;,Courier,monospace\">     ┌───┐ ░ ┌───┐┌─┐\n",
       "  q: ┤ H ├─░─┤ H ├┤M├\n",
       "     └───┘ ░ └───┘└╥┘\n",
       "c: 1/══════════════╩═\n",
       "                   0 </pre>"
      ],
      "text/plain": [
       "     ┌───┐ ░ ┌───┐┌─┐\n",
       "  q: ┤ H ├─░─┤ H ├┤M├\n",
       "     └───┘ ░ └───┘└╥┘\n",
       "c: 1/══════════════╩═\n",
       "                   0 "
      ]
     },
     "metadata": {},
     "output_type": "display_data"
    },
    {
     "data": {
      "image/png": "[encoded data removed]",
      "text/plain": [
       "<Figure size 640x480 with 1 Axes>"
      ]
     },
     "execution_count": 2,
     "metadata": {},
     "output_type": "execute_result"
    }
   ],
   "source": [
    "qc = QuantumCircuit(1,1)\n",
    "# Alice prepares qubit in state |+>\n",
    "qc.h(0)\n",
    "qc.barrier()\n",
    "# Alice now sends the qubit to Bob\n",
    "# who measures it in the X-basis\n",
    "qc.h(0)\n",
    "qc.measure(0,0)\n",
    "\n",
    "# Draw and simulate circuit\n",
    "display(qc.draw())\n",
    "aer_sim = Aer.get_backend('aer_simulator')\n",
    "job = aer_sim.run(qc)\n",
    "plot_histogram(job.result().get_counts())"
   ]
  },
  {
   "cell_type": "code",
   "execution_count": 3,
   "id": "e703ee63",
   "metadata": {},
   "outputs": [
    {
     "data": {
      "text/html": [
       "<pre style=\"word-wrap: normal;white-space: pre;background: #fff0;line-height: 1.1;font-family: &quot;Courier New&quot;,Courier,monospace\">     ┌───┐┌─┐ ░ ┌───┐┌─┐\n",
       "  q: ┤ H ├┤M├─░─┤ H ├┤M├\n",
       "     └───┘└╥┘ ░ └───┘└╥┘\n",
       "c: 1/══════╩══════════╩═\n",
       "           0          0 </pre>"
      ],
      "text/plain": [
       "     ┌───┐┌─┐ ░ ┌───┐┌─┐\n",
       "  q: ┤ H ├┤M├─░─┤ H ├┤M├\n",
       "     └───┘└╥┘ ░ └───┘└╥┘\n",
       "c: 1/══════╩══════════╩═\n",
       "           0          0 "
      ]
     },
     "metadata": {},
     "output_type": "display_data"
    },
    {
     "data": {
      "image/png": "[encoded data removed]",
      "text/plain": [
       "<Figure size 640x480 with 1 Axes>"
      ]
     },
     "execution_count": 3,
     "metadata": {},
     "output_type": "execute_result"
    }
   ],
   "source": [
    "qc = QuantumCircuit(1,1)\n",
    "# Alice prepares qubit in state |+>\n",
    "qc.h(0)\n",
    "# Alice now sends the qubit to Bob\n",
    "# but Eve intercepts and tries to read it\n",
    "qc.measure(0, 0)\n",
    "qc.barrier()\n",
    "# Eve then passes this on to Bob\n",
    "# who measures it in the X-basis\n",
    "qc.h(0)\n",
    "qc.measure(0,0)\n",
    "\n",
    "# Draw and simulate circuit\n",
    "display(qc.draw())\n",
    "aer_sim = Aer.get_backend('aer_simulator')\n",
    "job = aer_sim.run(qc)\n",
    "plot_histogram(job.result().get_counts())"
   ]
  },
  {
   "cell_type": "markdown",
   "id": "fa38e719",
   "metadata": {},
   "source": [
    "Alice generates her random set of bits:"
   ]
  },
  {
   "cell_type": "code",
   "execution_count": 4,
   "id": "7562d923",
   "metadata": {},
   "outputs": [
    {
     "name": "stdout",
     "output_type": "stream",
     "text": [
      "[0 1 1 0 1 1 1 1 1 1 1 0 0 1 0 0 0 0 0 1 0 1 1 0 0 1 1 1 1 0 1 0 1 0 1 1 0\n",
      " 1 1 0 0 1 0 1 1 1 1 1 0 1 0 1 1 1 1 0 1 0 0 1 1 0 1 0 1 0 0 0 0 0 1 1 0 0\n",
      " 0 1 1 0 1 0 0 1 0 1 1 1 1 1 1 0 1 1 0 0 1 0 0 1 1 0]\n"
     ]
    }
   ],
   "source": [
    "np.random.seed(seed=0)\n",
    "n = 100\n",
    "## Step 1\n",
    "# Alice generates bits\n",
    "alice_bits = randint(2, size=n)\n",
    "print(alice_bits)"
   ]
  },
  {
   "cell_type": "code",
   "execution_count": 5,
   "id": "b1493412",
   "metadata": {},
   "outputs": [
    {
     "name": "stdout",
     "output_type": "stream",
     "text": [
      "[1 0 0 1 0 0 0 1 1 0 1 0 0 0 0 0 1 0 1 0 1 1 1 1 1 0 1 1 1 1 0 1 1 0 0 1 0\n",
      " 0 0 0 1 1 0 0 1 0 1 1 1 1 0 0 0 1 0 1 1 1 0 1 0 0 1 0 1 1 0 0 1 0 1 0 1 0\n",
      " 1 0 1 0 0 0 1 0 1 0 1 0 0 0 0 0 1 0 0 1 0 0 0 1 0 0]\n"
     ]
    }
   ],
   "source": [
    "np.random.seed(seed=0)\n",
    "n = 100\n",
    "## Step 1\n",
    "#Alice generates bits\n",
    "alice_bits = randint(2, size=n)\n",
    "\n",
    "## Step 2\n",
    "# Create an array to tell us which qubits\n",
    "# are encoded in which bases\n",
    "alice_bases = randint(2, size=n)\n",
    "print(alice_bases)"
   ]
  },
  {
   "cell_type": "code",
   "execution_count": 6,
   "id": "c2376a0e",
   "metadata": {},
   "outputs": [],
   "source": [
    "def encode_message(bits, bases):\n",
    "    message = []\n",
    "    for i in range(n):\n",
    "        qc = QuantumCircuit(1,1)\n",
    "        if bases[i] == 0: # Prepare qubit in Z-basis\n",
    "            if bits[i] == 0:\n",
    "                pass \n",
    "            else:\n",
    "                qc.x(0)\n",
    "        else: # Prepare qubit in X-basis\n",
    "            if bits[i] == 0:\n",
    "                qc.h(0)\n",
    "            else:\n",
    "                qc.x(0)\n",
    "                qc.h(0)\n",
    "        qc.barrier()\n",
    "        message.append(qc)\n",
    "    return message"
   ]
  },
  {
   "cell_type": "markdown",
   "id": "c3dde4c9",
   "metadata": {},
   "source": [
    "Alice chooses to encode each bit on qubit in the X or Z-basis at random, and stores the choice for each qubit in alice_bases. In this case, a 0 means \"prepare in the Z-basis\", and a 1 means \"prepare in the \n",
    "X-basis\""
   ]
  },
  {
   "cell_type": "code",
   "execution_count": 7,
   "id": "adf6c835",
   "metadata": {},
   "outputs": [],
   "source": [
    "np.random.seed(seed=0)\n",
    "n = 100\n",
    "\n",
    "## Step 1\n",
    "# Alice generates bits\n",
    "alice_bits = randint(2, size=n)\n",
    "\n",
    "## Step 2\n",
    "# Create an array to tell us which qubits\n",
    "# are encoded in which bases\n",
    "alice_bases = randint(2, size=n)\n",
    "message = encode_message(alice_bits, alice_bases)"
   ]
  },
  {
   "cell_type": "code",
   "execution_count": 8,
   "id": "525ee27f",
   "metadata": {},
   "outputs": [
    {
     "name": "stdout",
     "output_type": "stream",
     "text": [
      "bit = 0\n",
      "basis = 1\n"
     ]
    }
   ],
   "source": [
    "print('bit = %i' % alice_bits[0])\n",
    "print('basis = %i' % alice_bases[0])"
   ]
  },
  {
   "cell_type": "code",
   "execution_count": 9,
   "id": "62178e67",
   "metadata": {},
   "outputs": [
    {
     "data": {
      "text/html": [
       "<pre style=\"word-wrap: normal;white-space: pre;background: #fff0;line-height: 1.1;font-family: &quot;Courier New&quot;,Courier,monospace\">     ┌───┐ ░ \n",
       "  q: ┤ H ├─░─\n",
       "     └───┘ ░ \n",
       "c: 1/════════\n",
       "             </pre>"
      ],
      "text/plain": [
       "     ┌───┐ ░ \n",
       "  q: ┤ H ├─░─\n",
       "     └───┘ ░ \n",
       "c: 1/════════\n",
       "             "
      ]
     },
     "execution_count": 9,
     "metadata": {},
     "output_type": "execute_result"
    }
   ],
   "source": [
    "message[0].draw()"
   ]
  },
  {
   "cell_type": "code",
   "execution_count": 10,
   "id": "20af885b",
   "metadata": {},
   "outputs": [
    {
     "name": "stdout",
     "output_type": "stream",
     "text": [
      "bit = 1\n",
      "basis = 0\n"
     ]
    },
    {
     "data": {
      "text/html": [
       "<pre style=\"word-wrap: normal;white-space: pre;background: #fff0;line-height: 1.1;font-family: &quot;Courier New&quot;,Courier,monospace\">     ┌───┐ ░ \n",
       "  q: ┤ X ├─░─\n",
       "     └───┘ ░ \n",
       "c: 1/════════\n",
       "             </pre>"
      ],
      "text/plain": [
       "     ┌───┐ ░ \n",
       "  q: ┤ X ├─░─\n",
       "     └───┘ ░ \n",
       "c: 1/════════\n",
       "             "
      ]
     },
     "execution_count": 10,
     "metadata": {},
     "output_type": "execute_result"
    }
   ],
   "source": [
    "print('bit = %i' % alice_bits[4])\n",
    "print('basis = %i' % alice_bases[4])\n",
    "message[4].draw()"
   ]
  },
  {
   "cell_type": "markdown",
   "id": "a3354e41",
   "metadata": {},
   "source": [
    "Bob then measures each qubit in the X or Z-basis at random and stores this information:"
   ]
  },
  {
   "cell_type": "code",
   "execution_count": 11,
   "id": "52ef07a7",
   "metadata": {},
   "outputs": [
    {
     "name": "stdout",
     "output_type": "stream",
     "text": [
      "[1 0 1 0 0 1 1 0 0 0 1 1 0 0 0 0 0 1 0 1 0 0 0 1 1 1 0 0 1 1 1 1 0 0 0 1 1\n",
      " 0 1 0 0 1 0 1 1 1 1 0 0 0 1 1 1 0 1 1 1 1 0 0 1 1 0 0 0 1 1 0 1 1 1 1 1 0\n",
      " 0 0 1 0 1 0 1 1 0 0 0 1 0 0 1 1 1 1 0 1 0 0 0 0 1 1]\n"
     ]
    }
   ],
   "source": [
    "np.random.seed(seed=0)\n",
    "n = 100\n",
    "\n",
    "## Step 1\n",
    "# Alice generates bits\n",
    "alice_bits = randint(2, size=n)\n",
    "\n",
    "## Step 2\n",
    "# Create an array to tell us which qubits\n",
    "# are encoded in which bases\n",
    "alice_bases = randint(2, size=n)\n",
    "message = encode_message(alice_bits, alice_bases)\n",
    "\n",
    "## Step 3\n",
    "# Decide which basis to measure in:\n",
    "bob_bases = randint(2, size=n)\n",
    "print(bob_bases)"
   ]
  },
  {
   "cell_type": "code",
   "execution_count": 12,
   "id": "fa3beddc",
   "metadata": {},
   "outputs": [],
   "source": [
    "def measure_message(message, bases):\n",
    "    backend = Aer.get_backend('aer_simulator')\n",
    "    measurements = []\n",
    "    for q in range(n):\n",
    "        if bases[q] == 0: # measuring in Z-basis\n",
    "            message[q].measure(0,0)\n",
    "        if bases[q] == 1: # measuring in X-basis\n",
    "            message[q].h(0)\n",
    "            message[q].measure(0,0)\n",
    "        aer_sim = Aer.get_backend('aer_simulator')\n",
    "        result = aer_sim.run(message[q], shots=1, memory=True).result()\n",
    "        measured_bit = int(result.get_memory()[0])\n",
    "        measurements.append(measured_bit)\n",
    "    return measurements"
   ]
  },
  {
   "cell_type": "code",
   "execution_count": 13,
   "id": "12efcefb",
   "metadata": {},
   "outputs": [],
   "source": [
    "np.random.seed(seed=0)\n",
    "n = 100\n",
    "\n",
    "## Step 1\n",
    "# Alice generates bits\n",
    "alice_bits = randint(2, size=n)\n",
    "\n",
    "## Step 2\n",
    "# Create an array to tell us which qubits\n",
    "# are encoded in which bases\n",
    "alice_bases = randint(2, size=n)\n",
    "message = encode_message(alice_bits, alice_bases)\n",
    "\n",
    "## Step 3\n",
    "# Decide which basis to measure in:\n",
    "bob_bases = randint(2, size=n)\n",
    "bob_results = measure_message(message, bob_bases)"
   ]
  },
  {
   "cell_type": "markdown",
   "id": "841b90ad",
   "metadata": {},
   "source": [
    "We can see that the circuit in message[0] (representing the 0th qubit) has had an X-measurement added to it by Bob:"
   ]
  },
  {
   "cell_type": "code",
   "execution_count": 14,
   "id": "62c9b0d3",
   "metadata": {},
   "outputs": [
    {
     "data": {
      "text/html": [
       "<pre style=\"word-wrap: normal;white-space: pre;background: #fff0;line-height: 1.1;font-family: &quot;Courier New&quot;,Courier,monospace\">     ┌───┐ ░ ┌───┐┌─┐\n",
       "  q: ┤ H ├─░─┤ H ├┤M├\n",
       "     └───┘ ░ └───┘└╥┘\n",
       "c: 1/══════════════╩═\n",
       "                   0 </pre>"
      ],
      "text/plain": [
       "     ┌───┐ ░ ┌───┐┌─┐\n",
       "  q: ┤ H ├─░─┤ H ├┤M├\n",
       "     └───┘ ░ └───┘└╥┘\n",
       "c: 1/══════════════╩═\n",
       "                   0 "
      ]
     },
     "execution_count": 14,
     "metadata": {},
     "output_type": "execute_result"
    }
   ],
   "source": [
    "\n",
    "message[0].draw()"
   ]
  },
  {
   "cell_type": "markdown",
   "id": "49169f41",
   "metadata": {},
   "source": [
    "Since Bob has by chance chosen to measure in the same basis Alice encoded the qubit in, Bob is guaranteed to get the result 0. For the 6th qubit (shown below), Bob's random choice of measurement is not the same as Alice's, and Bob's result has only a 50% chance of matching Alices'."
   ]
  },
  {
   "cell_type": "code",
   "execution_count": 15,
   "id": "242db7f8",
   "metadata": {},
   "outputs": [
    {
     "data": {
      "text/html": [
       "<pre style=\"word-wrap: normal;white-space: pre;background: #fff0;line-height: 1.1;font-family: &quot;Courier New&quot;,Courier,monospace\">     ┌───┐ ░ ┌───┐┌─┐\n",
       "  q: ┤ X ├─░─┤ H ├┤M├\n",
       "     └───┘ ░ └───┘└╥┘\n",
       "c: 1/══════════════╩═\n",
       "                   0 </pre>"
      ],
      "text/plain": [
       "     ┌───┐ ░ ┌───┐┌─┐\n",
       "  q: ┤ X ├─░─┤ H ├┤M├\n",
       "     └───┘ ░ └───┘└╥┘\n",
       "c: 1/══════════════╩═\n",
       "                   0 "
      ]
     },
     "execution_count": 15,
     "metadata": {},
     "output_type": "execute_result"
    }
   ],
   "source": [
    "message[6].draw()"
   ]
  },
  {
   "cell_type": "code",
   "execution_count": 16,
   "id": "a844ee4a",
   "metadata": {},
   "outputs": [
    {
     "name": "stdout",
     "output_type": "stream",
     "text": [
      "[0, 1, 1, 0, 1, 1, 1, 0, 1, 1, 1, 1, 0, 1, 0, 0, 0, 1, 0, 1, 0, 0, 1, 0, 0, 0, 0, 0, 1, 0, 1, 0, 0, 0, 1, 1, 1, 1, 0, 0, 1, 1, 0, 0, 1, 1, 1, 0, 1, 0, 0, 1, 1, 0, 1, 0, 1, 0, 0, 0, 1, 0, 0, 0, 1, 0, 1, 0, 0, 1, 1, 0, 0, 0, 1, 1, 1, 0, 0, 0, 0, 0, 0, 1, 1, 1, 1, 1, 0, 0, 1, 0, 0, 0, 1, 0, 0, 1, 1, 1]\n"
     ]
    }
   ],
   "source": [
    "print(bob_results)"
   ]
  },
  {
   "cell_type": "markdown",
   "id": "b8fc2a14",
   "metadata": {},
   "source": [
    "If Bob happened to measure a bit in the same basis Alice prepared it in, this means the entry in bob_results will match the corresponding entry in alice_bits, and they can use that bit as part of their key. If they measured in different bases, Bob's result is random, and they both throw that entry away. Here is a function remove_garbage that does this for us:"
   ]
  },
  {
   "cell_type": "code",
   "execution_count": 17,
   "id": "6abbabdf",
   "metadata": {},
   "outputs": [],
   "source": [
    "def remove_garbage(a_bases, b_bases, bits):\n",
    "    good_bits = []\n",
    "    for q in range(n):\n",
    "        if a_bases[q] == b_bases[q]:\n",
    "            # If both used the same basis, add\n",
    "            # this to the list of 'good' bits\n",
    "            good_bits.append(bits[q])\n",
    "    return good_bits"
   ]
  },
  {
   "cell_type": "code",
   "execution_count": 18,
   "id": "109f4e42",
   "metadata": {},
   "outputs": [
    {
     "name": "stdout",
     "output_type": "stream",
     "text": [
      "Alice's Key: [np.int32(0), np.int32(1), np.int32(1), np.int32(1), np.int32(1), np.int32(0), np.int32(1), np.int32(0), np.int32(0), np.int32(0), np.int32(0), np.int32(1), np.int32(0), np.int32(0), np.int32(0), np.int32(1), np.int32(1), np.int32(1), np.int32(0), np.int32(1), np.int32(0), np.int32(1), np.int32(1), np.int32(0), np.int32(1), np.int32(0), np.int32(0), np.int32(0), np.int32(0), np.int32(0), np.int32(0), np.int32(1), np.int32(0), np.int32(0), np.int32(1), np.int32(1), np.int32(0), np.int32(0), np.int32(0), np.int32(1), np.int32(1), np.int32(1), np.int32(1), np.int32(0), np.int32(0), np.int32(1), np.int32(0), np.int32(0)]\n",
      "Bob's Key: [0, 1, 1, 1, 1, 0, 1, 0, 0, 0, 0, 1, 0, 0, 0, 1, 1, 1, 0, 1, 0, 1, 1, 0, 1, 0, 0, 0, 0, 0, 0, 1, 0, 0, 1, 1, 0, 0, 0, 1, 1, 1, 1, 0, 0, 1, 0, 0]\n"
     ]
    }
   ],
   "source": [
    "np.random.seed(seed=0)\n",
    "n = 100\n",
    "\n",
    "## Step 1\n",
    "# Alice generates bits\n",
    "alice_bits = randint(2, size=n)\n",
    "\n",
    "## Step 2\n",
    "# Create an array to tell us which qubits\n",
    "# are encoded in which bases\n",
    "alice_bases = randint(2, size=n)\n",
    "message = encode_message(alice_bits, alice_bases)\n",
    "\n",
    "## Step 3\n",
    "# Decide which basis to measure in:\n",
    "bob_bases = randint(2, size=n)\n",
    "bob_results = measure_message(message, bob_bases)\n",
    "\n",
    "## Step 4\n",
    "alice_key = remove_garbage(alice_bases, bob_bases, alice_bits)\n",
    "bob_key = remove_garbage(alice_bases, bob_bases, bob_results)\n",
    "print(f\"Alice's Key: {alice_key}\")\n",
    "print(f\"Bob's Key: {bob_key}\")"
   ]
  },
  {
   "cell_type": "markdown",
   "id": "9aca996b",
   "metadata": {},
   "source": [
    "Finally, Bob and Alice compare a random selection of the bits in their keys to make sure the protocol has worked correctly"
   ]
  },
  {
   "cell_type": "code",
   "execution_count": 19,
   "id": "eed4a0c8",
   "metadata": {},
   "outputs": [],
   "source": [
    "def sample_bits(bits, selection):\n",
    "    sample = []\n",
    "    for i in selection:\n",
    "        # use np.mod to make sure the\n",
    "        # bit we sample is always in \n",
    "        # the list range\n",
    "        i = np.mod(i, len(bits))\n",
    "        # pop(i) removes the element of the\n",
    "        # list at index 'i'\n",
    "        sample.append(bits.pop(i))\n",
    "    return sample"
   ]
  },
  {
   "cell_type": "markdown",
   "id": "fe0a1820",
   "metadata": {},
   "source": [
    "So this is the final code:"
   ]
  },
  {
   "cell_type": "code",
   "execution_count": 20,
   "id": "aa6eae04",
   "metadata": {},
   "outputs": [
    {
     "name": "stdout",
     "output_type": "stream",
     "text": [
      "  bob_sample = [0, 1, 0, 1, 1, 0, 0, 0, 0, 0, 0, 1, 0, 0, 0]\n",
      "alice_sample = [np.int32(0), np.int32(1), np.int32(0), np.int32(1), np.int32(1), np.int32(0), np.int32(0), np.int32(0), np.int32(0), np.int32(0), np.int32(0), np.int32(1), np.int32(0), np.int32(0), np.int32(0)]\n"
     ]
    }
   ],
   "source": [
    "np.random.seed(seed=0)\n",
    "n = 100\n",
    "\n",
    "## Step 1\n",
    "# Alice generates bits\n",
    "alice_bits = randint(2, size=n)\n",
    "\n",
    "## Step 2\n",
    "# Create an array to tell us which qubits\n",
    "# are encoded in which bases\n",
    "alice_bases = randint(2, size=n)\n",
    "message = encode_message(alice_bits, alice_bases)\n",
    "\n",
    "## Step 3\n",
    "# Decide which basis to measure in:\n",
    "bob_bases = randint(2, size=n)\n",
    "bob_results = measure_message(message, bob_bases)\n",
    "\n",
    "## Step 4\n",
    "alice_key = remove_garbage(alice_bases, bob_bases, alice_bits)\n",
    "bob_key = remove_garbage(alice_bases, bob_bases, bob_results)\n",
    "\n",
    "## Step 5\n",
    "sample_size = 15\n",
    "bit_selection = randint(n, size=sample_size)\n",
    "\n",
    "bob_sample = sample_bits(bob_key, bit_selection)\n",
    "print(\"  bob_sample = \" + str(bob_sample))\n",
    "alice_sample = sample_bits(alice_key, bit_selection)\n",
    "print(\"alice_sample = \"+ str(alice_sample))"
   ]
  },
  {
   "cell_type": "code",
   "execution_count": 21,
   "id": "42451094",
   "metadata": {},
   "outputs": [
    {
     "name": "stdout",
     "output_type": "stream",
     "text": [
      "Bob and Alice's samples match!\n"
     ]
    }
   ],
   "source": [
    "if bob_sample == alice_sample:\n",
    "    print(\"Bob and Alice's samples match!\")"
   ]
  },
  {
   "cell_type": "code",
   "execution_count": 22,
   "id": "0e7b851c",
   "metadata": {},
   "outputs": [
    {
     "name": "stdout",
     "output_type": "stream",
     "text": [
      "[1, 1, 0, 1, 0, 0, 1, 0, 1, 1, 1, 0, 1, 1, 1, 0, 1, 0, 0, 1, 0, 0, 1, 1, 0, 0, 0, 1, 1, 0, 1, 0, 0]\n",
      "[np.int32(1), np.int32(1), np.int32(0), np.int32(1), np.int32(0), np.int32(0), np.int32(1), np.int32(0), np.int32(1), np.int32(1), np.int32(1), np.int32(0), np.int32(1), np.int32(1), np.int32(1), np.int32(0), np.int32(1), np.int32(0), np.int32(0), np.int32(1), np.int32(0), np.int32(0), np.int32(1), np.int32(1), np.int32(0), np.int32(0), np.int32(0), np.int32(1), np.int32(1), np.int32(0), np.int32(1), np.int32(0), np.int32(0)]\n",
      "key length = 33\n"
     ]
    }
   ],
   "source": [
    "print(bob_key)\n",
    "print(alice_key)\n",
    "print(\"key length = %i\" % len(alice_key))"
   ]
  },
  {
   "cell_type": "markdown",
   "id": "c01ed1fb",
   "metadata": {},
   "source": [
    "Essential functions used in the code above:\n",
    "encode_message(bits, bases)\n",
    "measure_message(message, bases)\n",
    "remove_garbage(a_bases, b_bases, bits)\n",
    "sample_bits(bits, selection)\n",
    "\n",
    "The above functions are used to encode, measure, and sample bits in the QKD protocol.\n",
    "\n",
    "- The encode_message function prepares qubits in the specified bases and encodes the bits.\n",
    "- The measure_message function measures the qubits in the specified bases and returns the measured bits.\n",
    "- The remove_garbage function filters out bits that were not measured in the same basis as they were prepared.\n",
    "- The sample_bits function samples bits from the list based on the provided selection indices."
   ]
  },
  {
   "cell_type": "markdown",
   "id": "3153dac5",
   "metadata": {},
   "source": [
    "## Section 2\n",
    "Write Qiskit code to Implement BB84 Algorithm.."
   ]
  },
  {
   "cell_type": "code",
   "execution_count": 23,
   "id": "47f81d04",
   "metadata": {},
   "outputs": [],
   "source": [
    "from qiskit.visualization import plot_histogram, plot_bloch_multivector\n",
    "from qiskit_aer import QasmSimulator\n",
    "%matplotlib inline"
   ]
  },
  {
   "cell_type": "markdown",
   "id": "a51c8516",
   "metadata": {},
   "source": [
    "Step 1: Generate Binary Strings"
   ]
  },
  {
   "cell_type": "markdown",
   "id": "16ee305c",
   "metadata": {},
   "source": [
    "Alice will generate two strings(consisting of 0s and 1s). One string will encode the basis for each qubit and the other string will encode its state.\n",
    "\n",
    "0 in the hadamard basis will be represented as state \n",
    " and 1 in the hadamard basis is represented as state \n",
    ". The hadamard basis can be seen as the result of applying a hadamard gate on the computational basis \n",
    " or \n",
    ". The computational basis will be represented by 0 and hadamard basis by 1. Let us suppose that Alice wants to generate a 32 bit string. The number of qubits needed is 32. We will generate two random strings that represent Alice's state and the basis that Alice uses for encoding the state( the information about which basis Alice uses for encoding the state is very important for Bob to decrypt the message using the key)"
   ]
  },
  {
   "cell_type": "code",
   "execution_count": 24,
   "id": "273619f7",
   "metadata": {},
   "outputs": [
    {
     "name": "stdout",
     "output_type": "stream",
     "text": [
      "Alice's State:\t [1 0 1 0 0 0 0 1 1 1 0 1 0 1 0 0 0 0 1 1 1 0 1 0 0 1 1 1 0 1 1 0]\n",
      "Alice's Bases:\t [1 1 1 1 1 0 0 0 0 1 1 1 0 1 1 1 1 1 1 1 0 0 0 0 1 1 0 1 0 0 1 0]\n",
      "Bob's Bases:\t [1 0 1 1 0 0 1 1 0 1 1 1 1 1 1 0 0 1 0 1 0 0 1 1 1 1 1 0 1 1 1 0]\n"
     ]
    }
   ],
   "source": [
    "num_qubits = 32\n",
    "\n",
    "alice_basis = np.random.randint(2, size=num_qubits)\n",
    "alice_state = np.random.randint(2, size=num_qubits)\n",
    "bob_basis = np.random.randint(2, size=num_qubits)\n",
    "\n",
    "\n",
    "print(f\"Alice's State:\\t {np.array2string(alice_state)}\")\n",
    "print(f\"Alice's Bases:\\t {np.array2string(alice_basis)}\")\n",
    "print(f\"Bob's Bases:\\t {np.array2string(bob_basis)}\")\n"
   ]
  },
  {
   "cell_type": "markdown",
   "id": "5a935b45",
   "metadata": {},
   "source": [
    "Step 2: Creating the circuit using BB84 protocol"
   ]
  },
  {
   "cell_type": "markdown",
   "id": "8a2cb000",
   "metadata": {},
   "source": [
    "We will use this algorithm to construct the circuit\n",
    "\n",
    "- Whenever Alice wants to encode 1 in a qubit, she applies an X gate to the qubit. To encode 0, no action is needed as the qubits in qiskit are by default initialized to state 0 and applying an X gate is the equivalent of applying NOT.\n",
    "\n",
    "- Wherever she wants to encode it in the Hadamard basis, she applies an hadamard gate. No action is necessary to encode a qubit in the computational basis as the default basis in qiskit is the computational basis\n",
    "\n",
    "- She then *sends* the qubits to Bob\n",
    "\n",
    "- Bob measures the qubits according to his binary string. To measure a qubit in the Hadamard basis, he applies an hadamard gate to the corresponding qubit and then performs a measurement on the computational basis."
   ]
  },
  {
   "cell_type": "code",
   "execution_count": 25,
   "id": "2a9f4150",
   "metadata": {},
   "outputs": [],
   "source": [
    "def bb84_circuit(state, basis, measurement_basis):\n",
    "   \n",
    "    # state: array of 0s and 1s denoting the state to be encoded\n",
    "    # basis: array of 0s and 1s denoting the basis to be used for encoding\n",
    "    # measurement_basis: array of 0s and 1s denoting the basis to be used for measurement\n",
    "    \n",
    "    num_qubits = len(state)\n",
    "    \n",
    "    circuit = QuantumCircuit(num_qubits)\n",
    "\n",
    "    # Sender prepares qubits\n",
    "    for i in range(len(basis)):\n",
    "        if state[i] == 1:\n",
    "            circuit.x(i)        # <-- fixed here\n",
    "        if basis[i] == 1:\n",
    "            circuit.h(i)        # <-- fixed here\n",
    "\n",
    "    # Measuring action performed by Bob\n",
    "    for i in range(len(measurement_basis)):\n",
    "        if measurement_basis[i] == 1:\n",
    "            circuit.h(i)        # <-- fixed here\n",
    "\n",
    "    circuit.measure_all()\n",
    "    \n",
    "    return circuit\n"
   ]
  },
  {
   "cell_type": "markdown",
   "id": "b8f2cb64",
   "metadata": {},
   "source": [
    "Step 3: Creating the key"
   ]
  },
  {
   "cell_type": "markdown",
   "id": "a3139b14",
   "metadata": {},
   "source": [
    "Alice and Bob only keep the bits in the strings where the bases match. For example, in the example above only if Alice's encoding basis is 0 and Bob's measuring basis is 0 or its 1 and 1 the bits are kept\n",
    "\n",
    "The probability that their bases match is 0.5 as the probability that Alice chooses computational basis is 0.5 and probability that Bob chooses computational basis is 0.5 so the probability that both choose computational basis is 0.25 (1/4) or the probability that both choose hadamard basis is (0.5*0.5) so in total the probability that both their bases match is 0.5\n",
    "\n",
    "Here are all the possibilities for the BB84 protocol:\n",
    "\n",
    "![image](https://res.cloudinary.com/dnciaoigz/image/upload/v1745823327/Screenshot_2025-04-28_122409_ygho6e.png)"
   ]
  },
  {
   "cell_type": "markdown",
   "id": "65101b36",
   "metadata": {},
   "source": [
    "Step 4: Executing the circuit"
   ]
  },
  {
   "cell_type": "code",
   "execution_count": null,
   "id": "ffb4c2d8",
   "metadata": {},
   "outputs": [
    {
     "name": "stdout",
     "output_type": "stream",
     "text": [
      "Key: 110011011001100110\n"
     ]
    },
    {
     "ename": "",
     "evalue": "",
     "output_type": "error",
     "traceback": [
      "\u001b[1;31mThe Kernel crashed while executing code in the current cell or a previous cell. \n",
      "\u001b[1;31mPlease review the code in the cell(s) to identify a possible cause of the failure. \n",
      "\u001b[1;31mClick <a href='https://aka.ms/vscodeJupyterKernelCrash'>here</a> for more info. \n",
      "\u001b[1;31mView Jupyter <a href='command:jupyter.viewOutput'>log</a> for further details."
     ]
    }
   ],
   "source": [
    "from qiskit import QuantumCircuit\n",
    "from qiskit_aer import AerSimulator\n",
    "\n",
    "# create the circuit (using your bb84_circuit function)\n",
    "circuit = bb84_circuit(alice_state, alice_basis, bob_basis)\n",
    "\n",
    "\n",
    "# # transpile the circuit for the simulator (doesnt work on my system)\n",
    "# from qiskit import transpile\n",
    "# circuit = transpile(circuit, optimization_level=1)\n",
    "\n",
    "# create the simulator\n",
    "simulator = AerSimulator()\n",
    "\n",
    "# run the circuit\n",
    "job = simulator.run(circuit, shots=1)\n",
    "result = job.result()\n",
    "\n",
    "# get the measurement results\n",
    "counts = result.get_counts()\n",
    "\n",
    "# get the most frequent result (only 1 shot, so just take the only one)\n",
    "key = list(counts.keys())[0]\n",
    "\n",
    "# now generate the encryption key\n",
    "encryption_key = ''\n",
    "for i in range(len(alice_state)):\n",
    "    if alice_basis[i] == bob_basis[i]:\n",
    "        encryption_key += key[::-1][i]   # reverse bits because measurement returns them reversed\n",
    "\n",
    "print(f\"Key: {encryption_key}\")\n"
   ]
  },
  {
   "cell_type": "code",
   "execution_count": null,
   "id": "d7a145b4",
   "metadata": {},
   "outputs": [],
   "source": []
  }
 ],
 "metadata": {
  "kernelspec": {
   "display_name": "Python 3",
   "language": "python",
   "name": "python3"
  },
  "language_info": {
   "codemirror_mode": {
    "name": "ipython",
    "version": 3
   },
   "file_extension": ".py",
   "mimetype": "text/x-python",
   "name": "python",
   "nbconvert_exporter": "python",
   "pygments_lexer": "ipython3",
   "version": "3.10.0"
  }
 },
 "nbformat": 4,
 "nbformat_minor": 5
}
